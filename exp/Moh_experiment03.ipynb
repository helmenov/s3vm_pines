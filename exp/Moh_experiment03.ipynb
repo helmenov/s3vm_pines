{
  "cells": [
    {
      "cell_type": "raw",
      "metadata": {},
      "source": [
        "---\n",
        "title: Comparison with supervised SVM\n",
        "format:\n",
        "  html:\n",
        "    code-fold: true\n",
        "execute:\n",
        "  enabled: true\n",
        "lang: ja\n",
        "---"
      ]
    },
    {
      "cell_type": "markdown",
      "metadata": {},
      "source": [
        "lamUを0にすれば softmargin SVMである．\n",
        "\n",
        "実験1と割合（サンプル数）は同様だが，抽出元が異なる．ラベル無しデータは無い．\n",
        "- ラベル付きデータの割合 p = 0.1*(0.1〜0.8) , D_l selected from D_0 (predefined training data: 10% of anotated)\n",
        "- テストデータの割合 r = 0.9 , \\Omega - D_0"
      ]
    },
    {
      "cell_type": "code",
      "metadata": {},
      "source": [
        "from indianpines.dataset import load as load_pines\n",
        "from s3vm_pines.module import recategorize_csv, train_test_split, colored_map, labeled_unlabeled_test_split\n",
        "\n",
        "pines = load_pines(pca=20,recategorize_rule=recategorize_csv, include_background=True,gt_gic=False)"
      ],
      "execution_count": null,
      "outputs": []
    },
    {
      "cell_type": "code",
      "metadata": {},
      "source": [
        "prop_train = 1348/10320\n",
        "print(prop_train)\n",
        "\n",
        "status, status_name = train_test_split(prop_train=prop_train, recategorize_rule=recategorize_csv, gt_gic=False)\n",
        "\n",
        "for i, s in enumerate(status_name):\n",
        "    n = status[status==i].shape[0]\n",
        "    print(f'{i}:{s}:{n}')"
      ],
      "execution_count": null,
      "outputs": []
    },
    {
      "cell_type": "markdown",
      "metadata": {},
      "source": [
        "## ラベル付きトレーニングデータの割合に対する評価\n"
      ]
    },
    {
      "cell_type": "code",
      "metadata": {},
      "source": [
        "#| label: fig_test_with_various_labeled\n",
        "#| fig-cap: \"Testing with Various Labeled Data Proportion\"\n",
        "#| output: false\n",
        "\n",
        "from qns3vm import QN_S3VM_OVR\n",
        "from qns3vm.tools import classification_error\n",
        "from sklearn.metrics import accuracy_score, f1_score, precision_score, recall_score\n",
        "import random\n",
        "from matplotlib import style\n",
        "style.use(['science','ieee'])\n",
        "\n",
        "\n",
        "rg = random.Random()\n",
        "\n",
        "seed_l = 83988848\n",
        "seed_u = 83988848\n",
        "\n",
        "prop_train_l_list = [0.1, 0.2, 0.3, 0.4, 0.5, 0.6, 0.7, 0.8]\n",
        "\n",
        "acc = list()\n",
        "err = list()\n",
        "f1 = list()\n",
        "acc_svm = list()\n",
        "err_svm = list()\n",
        "f1_svm = list()\n",
        "fig2 = plt.figure()\n",
        "ax21 = [0 for _ in prop_train_l_list]\n",
        "for i, prop_train_l in enumerate(prop_train_l_list):\n",
        "    l_u_t_status, l_u_t_status_name = labeled_unlabeled_test_split(prop_train_l=prop_train_l,status=status,features=pines.features, target=pines.target, cordinates=pines.cordinates, unlabeled_type = 'from_train',seed_l=seed_l, seed_u=seed_u)\n",
        "\n",
        "    for i, s in enumerate(l_u_t_status_name):\n",
        "        n = l_u_t_status[l_u_t_status==i].shape[0]\n",
        "        print(f'{i}:{s}:{n}')\n",
        "\n",
        "    X_train_l = pines.features[l_u_t_status==3].tolist()\n",
        "    L_train_l = pines.target[l_u_t_status==3].tolist()\n",
        "    X_train_u = pines.features[l_u_t_status==2].tolist()\n",
        "    X_test = pines.features[l_u_t_status==1].tolist()\n",
        "    L_test = pines.target[l_u_t_status==1].tolist()\n",
        "\n",
        "    ax21[i] = fig2.add_subplot(3,3,i)\n",
        "    colored_map(ax21[i], L_train_l, pines.cordinates[l_u_t_status==3], recategorize_rule=recategorize_csv, gt_gic=False)\n",
        "    ax21[i].set_title(f'{prop_train_l =}')\n",
        "\n",
        "    clf = QN_S3VM_OVR(X_train_l, L_train_l, X_train_u, random_generator=rg, lam=0.008765625, lamU=0, sigma=0.5, kernel_type=\"RBF\", estimate_r=0.0)\n",
        "    clf.train()\n",
        "    preds = clf.predict(X_test)\n",
        "    err_ = classification_error(preds,L_test)\n",
        "    acc_ = accuracy_score(L_test, preds)\n",
        "    f1_ = f1_score(L_test, preds, average=\"micro\")\n",
        "    err.append(err_)\n",
        "    acc.append(acc_)\n",
        "    f1.append(f1_)\n",
        "\n",
        "    clf_svm = QN_S3VM_OVR(X_train_l, L_train_l, X_train_u, random_generator=rg, lam=0.008765625, lamU=0.8, sigma=0.5, kernel_type=\"RBF\", estimate_r=0.0)\n",
        "    clf_svm.train()\n",
        "    preds_svm = clf_svm.predict(X_test)\n",
        "    err_svm_ = classification_error(preds_svm,L_test)\n",
        "    acc_svm_ = accuracy_score(L_test, preds_svm)\n",
        "    f1_svm_ = f1_score(L_test, preds_svm, average=\"micro\")\n",
        "    err_svm.append(err_svm_)\n",
        "    acc_svm.append(acc_svm_)\n",
        "    f1_svm.append(f1_svm_)\n",
        "\n",
        "\n",
        "ax22 = fig2.add_subplot(3,3,9)\n",
        "ax22.plot(prop_train_l_list, acc, label='S3VM')\n",
        "ax22.plot(prop_train_l_list, acc_svm, label='SVM')\n",
        "ax22.set_xlabel(r'Amount of Labeled Data [$\\%$]')\n",
        "ax22.set_ylabel(r'Accuracy Score[$\\%$]')\n",
        "ax22.set_title('Testing with Various Labeled Data Proportion')"
      ],
      "execution_count": null,
      "outputs": []
    }
  ],
  "metadata": {
    "kernelspec": {
      "name": "python3",
      "language": "python",
      "display_name": "Python 3 (ipykernel)"
    }
  },
  "nbformat": 4,
  "nbformat_minor": 4
}