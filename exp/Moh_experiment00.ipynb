{
 "cells": [
  {
   "cell_type": "raw",
   "metadata": {},
   "source": [
    "---\n",
    "title: Pines Dataset\n",
    "format:\n",
    "  html:\n",
    "    code-fold: true\n",
    "execute:\n",
    "  enabled: true\n",
    "lang: ja\n",
    "---"
   ]
  },
  {
   "cell_type": "markdown",
   "metadata": {},
   "source": [
    "IndianPinesは，220バンド，16クラスのデータであり，その内訳は以下のようになっている．"
   ]
  },
  {
   "cell_type": "code",
   "execution_count": 1,
   "metadata": {},
   "outputs": [
    {
     "name": "stdout",
     "output_type": "stream",
     "text": [
      "number of instances: 21025\n",
      "dimension of feature vector (number of bands): 220\n",
      "==========\n",
      "background(non-studied): 10659\n",
      "Alfalfa: 54\n",
      "Corn-notill: 1434\n",
      "Corn-min: 834\n",
      "Corn: 234\n",
      "Grass/Pasture: 497\n",
      "Grass/Trees: 747\n",
      "Grass/pasture-mowed: 26\n",
      "Hay-windrowed: 489\n",
      "Oats: 20\n",
      "Soybeans-notill: 968\n",
      "Soybeans-min: 2468\n",
      "Soybean-clean: 614\n",
      "Wheat: 212\n",
      "Woods: 1294\n",
      "Bldg-Grass-Tree-Drives: 380\n",
      "Stone-steel towers: 95\n",
      "==========\n"
     ]
    }
   ],
   "source": [
    "from indianpines.dataset import load as load_pines\n",
    "\n",
    "pines = load_pines(include_background=True,exclude_WaterAbsorptionChannels=False, gt_gic=False)\n",
    "\n",
    "print(f'number of instances: {pines.features.shape[0]}')\n",
    "print(f'dimension of feature vector (number of bands): {pines.features.shape[1]}')\n",
    "print('='*10)\n",
    "for i, t in enumerate(pines.target_names):\n",
    "    n = pines.target[pines.target==i].shape[0]\n",
    "    if t == 'background':\n",
    "        print(f'{t}(non-studied): {n}')\n",
    "    else:\n",
    "        print(f'{t}: {n}')\n",
    "print('='*10)"
   ]
  },
  {
   "cell_type": "markdown",
   "metadata": {},
   "source": [
    "ただし，220バンドのうち，水分吸収波帯である20バンドを除くデータを使うのが常である．"
   ]
  },
  {
   "cell_type": "code",
   "execution_count": 2,
   "metadata": {},
   "outputs": [
    {
     "name": "stdout",
     "output_type": "stream",
     "text": [
      "number of instances: 21025\n",
      "dimension of feature vector (number of bands): 200\n",
      "==========\n",
      "background(non-studied): 10659\n",
      "Alfalfa: 54\n",
      "Corn-notill: 1434\n",
      "Corn-min: 834\n",
      "Corn: 234\n",
      "Grass/Pasture: 497\n",
      "Grass/Trees: 747\n",
      "Grass/pasture-mowed: 26\n",
      "Hay-windrowed: 489\n",
      "Oats: 20\n",
      "Soybeans-notill: 968\n",
      "Soybeans-min: 2468\n",
      "Soybean-clean: 614\n",
      "Wheat: 212\n",
      "Woods: 1294\n",
      "Bldg-Grass-Tree-Drives: 380\n",
      "Stone-steel towers: 95\n",
      "==========\n"
     ]
    }
   ],
   "source": [
    "from indianpines.dataset import load as load_pines\n",
    "\n",
    "pines = load_pines(include_background=True, gt_gic=False)\n",
    "\n",
    "print(f'number of instances: {pines.features.shape[0]}')\n",
    "print(f'dimension of feature vector (number of bands): {pines.features.shape[1]}')\n",
    "print('='*10)\n",
    "for i, t in enumerate(pines.target_names):\n",
    "    n = pines.target[pines.target==i].shape[0]\n",
    "    if t == 'background':\n",
    "        print(f'{t}(non-studied): {n}')\n",
    "    else:\n",
    "        print(f'{t}: {n}')\n",
    "print('='*10)"
   ]
  },
  {
   "cell_type": "markdown",
   "metadata": {},
   "source": [
    "また，ラベルについては，いくつかの土地被覆をまとめることができ，もとの16ラベルから10ラベルにまとめることとする．"
   ]
  },
  {
   "cell_type": "code",
   "execution_count": 3,
   "metadata": {},
   "outputs": [
    {
     "name": "stdout",
     "output_type": "stream",
     "text": [
      "number of instances: 21025\n",
      "dimension of feature vector (number of bands): 200\n",
      "==========\n",
      "BackGround(non-studied): 10705\n",
      "Alfalfa: 54\n",
      "Corn: 2502\n",
      "Grass: 1244\n",
      "Hay-windrowed: 489\n",
      "Soybeans: 4050\n",
      "Wheat: 212\n",
      "Woods: 1294\n",
      "Bldg-Grass-Tree-Drives: 380\n",
      "Stone-steel towers: 95\n",
      "==========\n"
     ]
    }
   ],
   "source": [
    "from indianpines.dataset import load as load_pines\n",
    "from s3vm_pines.module import recategorize17to10_csv\n",
    "\n",
    "pines = load_pines(recategorize_rule=recategorize17to10_csv, include_background=True,gt_gic=False)\n",
    "\n",
    "print(f'number of instances: {pines.features.shape[0]}')\n",
    "print(f'dimension of feature vector (number of bands): {pines.features.shape[1]}')\n",
    "print('='*10)\n",
    "for i, t in enumerate(pines.target_names):\n",
    "    n = pines.target[pines.target==i].shape[0]\n",
    "    if t == 'BackGround':\n",
    "        print(f'{t}(non-studied): {n}')\n",
    "    else:\n",
    "        print(f'{t}: {n}')\n",
    "print('='*10)"
   ]
  },
  {
   "cell_type": "markdown",
   "metadata": {},
   "source": [
    "また，分光特徴は独立ではないため，主成分分析を用いて，20次元に削減する．"
   ]
  },
  {
   "cell_type": "code",
   "execution_count": 4,
   "metadata": {},
   "outputs": [
    {
     "name": "stdout",
     "output_type": "stream",
     "text": [
      "number of instances: 21025\n",
      "dimension of feature vector (number of bands): 20\n",
      "==========\n",
      "BackGround(non-studied): 10705\n",
      "Alfalfa: 54\n",
      "Corn: 2502\n",
      "Grass: 1244\n",
      "Hay-windrowed: 489\n",
      "Soybeans: 4050\n",
      "Wheat: 212\n",
      "Woods: 1294\n",
      "Bldg-Grass-Tree-Drives: 380\n",
      "Stone-steel towers: 95\n",
      "==========\n"
     ]
    }
   ],
   "source": [
    "from indianpines.dataset import load as load_pines\n",
    "from s3vm_pines.module import recategorize17to10_csv\n",
    "\n",
    "pines = load_pines(pca=20,recategorize_rule=recategorize17to10_csv, include_background=True,gt_gic=False)\n",
    "\n",
    "print(f'number of instances: {pines.features.shape[0]}')\n",
    "print(f'dimension of feature vector (number of bands): {pines.features.shape[1]}')\n",
    "print('='*10)\n",
    "for i, t in enumerate(pines.target_names):\n",
    "    n = pines.target[pines.target==i].shape[0]\n",
    "    if t == 'BackGround':\n",
    "        print(f'{t}(non-studied): {n}')\n",
    "    else:\n",
    "        print(f'{t}: {n}')\n",
    "print('='*10)"
   ]
  }
 ],
 "metadata": {
  "kernelspec": {
   "display_name": "Python 3 (ipykernel)",
   "language": "python",
   "name": "python3"
  }
 },
 "nbformat": 4,
 "nbformat_minor": 4
}
