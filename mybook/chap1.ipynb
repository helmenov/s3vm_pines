{
  "cells": [
    {
      "cell_type": "markdown",
      "metadata": {},
      "source": [
        "# Indian Pines Dataset\n",
        "\n",
        "IndianPines は，全21025区画($145\\times 145$)のデータである．\n",
        "全区画について220バンドの分光特性が計測されており，全区画のおよそ半分である10320区画について16カテゴリの土地被覆ラベルが当てられている．\n",
        "\n",
        "10320区画における16カテゴリの土地被覆ラベルの内訳は以下の通りである．\n"
      ],
      "id": "f8d99f7b"
    },
    {
      "cell_type": "code",
      "metadata": {},
      "source": [
        "#(1)\n",
        "#| echo: false\n",
        "from IndianPines import load as load_pines\n",
        "\n",
        "pines = load_pines(include_background=True,exclude_WaterAbsorptionChannels=False)\n",
        "\n",
        "print(f'number of instances: {pines.features.shape[0]}')\n",
        "print(f'dimension of feature vector (number of bands): {pines.features.shape[1]}')\n",
        "print('='*10)\n",
        "for i, t in enumerate(pines.target_names):\n",
        "    n = pines.target[pines.target==i].shape[0]\n",
        "    if t == 'background':\n",
        "        print(f'{t}(non-studied): {n}')\n",
        "    else:\n",
        "        print(f'{t}: {n}')\n",
        "print('='*10)"
      ],
      "id": "ed98b00a",
      "execution_count": null,
      "outputs": []
    },
    {
      "cell_type": "markdown",
      "metadata": {},
      "source": [
        "## 特徴空間について\n",
        "\n",
        "220バンドのうち，水分吸収波帯である20バンドを除くデータを使うのが常である．\n",
        "また，分光特徴は無相関ではないため，主成分分析を用いて，20次元に削減する．\n"
      ],
      "id": "c4e46878"
    },
    {
      "cell_type": "code",
      "metadata": {},
      "source": [
        "#(2)\n",
        "#| echo: false\n",
        "from IndianPines import recategorize17to10_csv\n",
        "\n",
        "pines = load_pines(pca=20, include_background=True)\n",
        "\n",
        "print(f'number of instances: {pines.features.shape[0]}')\n",
        "print(f'dimension of feature vector (number of bands): {pines.features.shape[1]}')\n",
        "print('='*10)\n",
        "for i, t in enumerate(pines.target_names):\n",
        "    n = pines.target[pines.target==i].shape[0]\n",
        "    if t == 'BackGround':\n",
        "        print(f'{t}(non-studied): {n}')\n",
        "    else:\n",
        "        print(f'{t}: {n}')\n",
        "print('='*10)"
      ],
      "id": "50fe2f27",
      "execution_count": null,
      "outputs": []
    },
    {
      "cell_type": "markdown",
      "metadata": {},
      "source": [
        "## 土地被覆ラベルについて，\n",
        "\n",
        "ラベルについては，いくつかの土地被覆は極端にサンプル数が少なかったり，同様の被覆をまとめることができ，もとの16ラベルから9ラベルにまとめることとする．\n",
        "\n",
        "10320区画における9ラベルの内訳は以下の通りである．\n"
      ],
      "id": "cd5d7f22"
    },
    {
      "cell_type": "code",
      "metadata": {},
      "source": [
        "#(3)\n",
        "#| echo: false\n",
        "pines = load_pines(pca=20,recategorize_rule=recategorize17to10_csv, include_background=True)\n",
        "\n",
        "print(f'number of instances: {pines.features.shape[0]}')\n",
        "print(f'dimension of feature vector (number of bands): {pines.features.shape[1]}')\n",
        "print('='*10)\n",
        "for i, t in enumerate(pines.target_names):\n",
        "    n = pines.target[pines.target==i].shape[0]\n",
        "    if t == 'BackGround':\n",
        "        print(f'{t}(non-studied): {n}')\n",
        "    else:\n",
        "        print(f'{t}: {n}')\n",
        "print('='*10)"
      ],
      "id": "384cd5da",
      "execution_count": null,
      "outputs": []
    },
    {
      "cell_type": "markdown",
      "metadata": {},
      "source": [
        "## トレーニングデータ，　テストデータ\n",
        "\n",
        "以後，データを次のように呼称して区別する．\n",
        "\n",
        "- 全区画(21025区画, 145\\times 145)\n",
        "  - アノテーションデータ(10320区画)\n",
        "    - トレーニングデータ: 学習用\n",
        "      - ラベル付きデータ: 教師付き学習用\n",
        "      - ラベルなしデータ: 半教師付き学習用追加分\n",
        "    - テストデータ: 分類性能評価用\n",
        "  - バックグラウンドデータ(10705区画)\n",
        "\n",
        "まず，アノテーションデータ 10320区画を，トレーニングデータとテストデータに区分けする．\n",
        "\n",
        "1. アノテーションデータをカテゴリごとに，連続領域のクラスタに分ける\n",
        "2. カテゴリごとに，広いクラスタの区画から順に，トレーニングデータを連続領域で50％確保し，残りをテストデータとする．双方等しく $N$ 区画である．\n",
        "3. トレーニングデータからラベル付きデータを $N$ に対して $p_{l}$ の割合で連続的に確保する．\n",
        "4. トレーニングデータからラベル付きデータを除いた区画から，$N$ に対して $p_{u}$ の割合でランダムに抽出する．\n"
      ],
      "id": "47e9024e"
    },
    {
      "cell_type": "code",
      "metadata": {},
      "source": [
        "#(4)\n",
        "#| echo: false\n",
        "from IndianPines import load\n",
        "from s3vm_pines.module import recategorize17to10_csv, train_test_split3, labeled_unlabeled_sample, colored_map\n",
        "from matplotlib import pyplot as plt\n",
        "import numpy as np\n",
        "\n",
        "pines = load(pca=20, include_background=True, recategorize_rule=recategorize17to10_csv)\n",
        "\n",
        "train_test_status, train_test_status_name = train_test_split3()\n",
        "\n",
        "n_train = len(train_test_status[train_test_status==2])\n",
        "n_test = len(train_test_status[train_test_status==1])\n",
        "p_train = n_train/(n_train+n_test)\n",
        "\n",
        "status, status_name = labeled_unlabeled_sample(p_labeled = 0.5, p_unlabeled = 0.5, train_test_status = train_test_status)\n",
        "\n",
        "\n",
        "print(\"target                  | labeled   | unlabeled | train-rest| test\")\n",
        "for t in range(len(pines.target_names)):\n",
        "    print(f\"{pines.target_names[t]:23s}\\t\",end='')\n",
        "    for s in [3, 4, 2, 1]:\n",
        "        print(f\"| {pines.target[(status==s) & (pines.target==t)].shape[0]:9d} \",end='')\n",
        "    print(\"\\r\")\n",
        "\n",
        "fig1 = plt.figure(figsize=(6.4*3,4.8), constrained_layout=True)\n",
        "\n",
        "ax11 = fig1.add_subplot(1,3,1)\n",
        "colored_map(ax11, pines.target[status==3], pines.coordinates[status==3],with_legend=False)\n",
        "ax11.set_title('labeled')\n",
        "\n",
        "ax12 = fig1.add_subplot(1,3,2)\n",
        "colored_map(ax12, pines.target[status==4], pines.coordinates[status==4],with_legend=False)\n",
        "ax12.set_title('unlabeled')\n",
        "\n",
        "ax13 = fig1.add_subplot(1,3,3)\n",
        "colored_map(ax13, pines.target[status==1], pines.coordinates[status==1])\n",
        "ax13.set_title('test')"
      ],
      "id": "b3de4770",
      "execution_count": null,
      "outputs": []
    }
  ],
  "metadata": {
    "kernelspec": {
      "name": "python3",
      "language": "python",
      "display_name": "Python 3 (ipykernel)"
    }
  },
  "nbformat": 4,
  "nbformat_minor": 5
}